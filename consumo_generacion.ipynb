{
 "cells": [
  {
   "cell_type": "code",
   "execution_count": 1,
   "metadata": {},
   "outputs": [],
   "source": [
    "import pandas as pd\n",
    "import sqlalchemy as db\n",
    "import zipfile, urllib.request, shutil\n"
   ]
  },
  {
   "cell_type": "code",
   "execution_count": 2,
   "metadata": {},
   "outputs": [],
   "source": [
    "url = 'https://api.worldbank.org/v2/es/topic/19?downloadformat=csv'\n",
    "file_name = 'Api_externa.zip' \n"
   ]
  },
  {
   "cell_type": "code",
   "execution_count": 3,
   "metadata": {},
   "outputs": [],
   "source": [
    "\n",
    "with urllib.request.urlopen(url) as response, open(file_name, 'wb') as out_file: \n",
    "    shutil.copyfileobj(response, out_file)\n",
    "    with zipfile.ZipFile(file_name) as zf:\n",
    "        zf.extractall()"
   ]
  },
  {
   "cell_type": "code",
   "execution_count": 4,
   "metadata": {},
   "outputs": [],
   "source": [
    "with open('API_19_DS2_es_csv_v2_4321676.csv', 'r+', encoding= 'latin-1') as archivo:\n",
    "    lines = archivo.readlines()\n",
    "    archivo.seek(0)\n",
    "    archivo.truncate()\n",
    "    for number, line in enumerate(lines):\n",
    "        if number not in range(4):\n",
    "            archivo.write(str(line))"
   ]
  },
  {
   "cell_type": "code",
   "execution_count": 5,
   "metadata": {},
   "outputs": [],
   "source": [
    "archivo.close()"
   ]
  },
  {
   "cell_type": "code",
   "execution_count": 6,
   "metadata": {},
   "outputs": [],
   "source": [
    "import pandas as pd"
   ]
  },
  {
   "cell_type": "code",
   "execution_count": 7,
   "metadata": {},
   "outputs": [],
   "source": [
    "api_externa = pd.read_csv('API_19_DS2_es_csv_v2_4321676.csv')"
   ]
  },
  {
   "cell_type": "code",
   "execution_count": 8,
   "metadata": {},
   "outputs": [],
   "source": [
    "# api_externa['Unnamed: 66'].unique()"
   ]
  },
  {
   "cell_type": "code",
   "execution_count": 9,
   "metadata": {},
   "outputs": [],
   "source": [
    "# api_externa['Country Name'].unique()"
   ]
  },
  {
   "cell_type": "markdown",
   "metadata": {},
   "source": [
    "<div style=\"color:#fb5607\">Código de Loli (Maria)"
   ]
  },
  {
   "cell_type": "code",
   "execution_count": 10,
   "metadata": {},
   "outputs": [
    {
     "data": {
      "text/html": [
       "<div>\n",
       "<style scoped>\n",
       "    .dataframe tbody tr th:only-of-type {\n",
       "        vertical-align: middle;\n",
       "    }\n",
       "\n",
       "    .dataframe tbody tr th {\n",
       "        vertical-align: top;\n",
       "    }\n",
       "\n",
       "    .dataframe thead th {\n",
       "        text-align: right;\n",
       "    }\n",
       "</style>\n",
       "<table border=\"1\" class=\"dataframe\">\n",
       "  <thead>\n",
       "    <tr style=\"text-align: right;\">\n",
       "      <th></th>\n",
       "      <th>Country Name</th>\n",
       "      <th>Country Code</th>\n",
       "      <th>Indicator Name</th>\n",
       "      <th>1960</th>\n",
       "      <th>1961</th>\n",
       "      <th>1962</th>\n",
       "      <th>1963</th>\n",
       "      <th>1964</th>\n",
       "      <th>1965</th>\n",
       "      <th>1966</th>\n",
       "      <th>...</th>\n",
       "      <th>2013</th>\n",
       "      <th>2014</th>\n",
       "      <th>2015</th>\n",
       "      <th>2016</th>\n",
       "      <th>2017</th>\n",
       "      <th>2018</th>\n",
       "      <th>2019</th>\n",
       "      <th>2020</th>\n",
       "      <th>2021</th>\n",
       "      <th>Unnamed: 66</th>\n",
       "    </tr>\n",
       "  </thead>\n",
       "  <tbody>\n",
       "    <tr>\n",
       "      <th>0</th>\n",
       "      <td>Aruba</td>\n",
       "      <td>ABW</td>\n",
       "      <td>Población, total</td>\n",
       "      <td>54208.0</td>\n",
       "      <td>55434.000000</td>\n",
       "      <td>56234.000000</td>\n",
       "      <td>56699.000000</td>\n",
       "      <td>57029.000000</td>\n",
       "      <td>57357.000000</td>\n",
       "      <td>57702.000000</td>\n",
       "      <td>...</td>\n",
       "      <td>103165.000000</td>\n",
       "      <td>103776.000000</td>\n",
       "      <td>104339.000000</td>\n",
       "      <td>104865.000000</td>\n",
       "      <td>105361.000000</td>\n",
       "      <td>105846.000000</td>\n",
       "      <td>106310.000000</td>\n",
       "      <td>106766.000000</td>\n",
       "      <td>107195.000000</td>\n",
       "      <td>0.0</td>\n",
       "    </tr>\n",
       "    <tr>\n",
       "      <th>1</th>\n",
       "      <td>Aruba</td>\n",
       "      <td>ABW</td>\n",
       "      <td>Áreas protegidas terrestres y marinas (% del t...</td>\n",
       "      <td>0.0</td>\n",
       "      <td>0.000000</td>\n",
       "      <td>0.000000</td>\n",
       "      <td>0.000000</td>\n",
       "      <td>0.000000</td>\n",
       "      <td>0.000000</td>\n",
       "      <td>0.000000</td>\n",
       "      <td>...</td>\n",
       "      <td>0.000000</td>\n",
       "      <td>0.000000</td>\n",
       "      <td>0.000000</td>\n",
       "      <td>0.527983</td>\n",
       "      <td>0.141163</td>\n",
       "      <td>0.141163</td>\n",
       "      <td>0.141164</td>\n",
       "      <td>0.141164</td>\n",
       "      <td>0.141164</td>\n",
       "      <td>0.0</td>\n",
       "    </tr>\n",
       "    <tr>\n",
       "      <th>2</th>\n",
       "      <td>Aruba</td>\n",
       "      <td>ABW</td>\n",
       "      <td>Otras emisiones de gases de efecto invernadero...</td>\n",
       "      <td>0.0</td>\n",
       "      <td>0.000000</td>\n",
       "      <td>0.000000</td>\n",
       "      <td>0.000000</td>\n",
       "      <td>0.000000</td>\n",
       "      <td>0.000000</td>\n",
       "      <td>0.000000</td>\n",
       "      <td>...</td>\n",
       "      <td>0.000000</td>\n",
       "      <td>0.000000</td>\n",
       "      <td>0.000000</td>\n",
       "      <td>0.000000</td>\n",
       "      <td>0.000000</td>\n",
       "      <td>0.000000</td>\n",
       "      <td>0.000000</td>\n",
       "      <td>0.000000</td>\n",
       "      <td>0.000000</td>\n",
       "      <td>0.0</td>\n",
       "    </tr>\n",
       "    <tr>\n",
       "      <th>3</th>\n",
       "      <td>Aruba</td>\n",
       "      <td>ABW</td>\n",
       "      <td>Las emisiones de CO2 derivadas del consumo de ...</td>\n",
       "      <td>100.0</td>\n",
       "      <td>100.000000</td>\n",
       "      <td>100.000000</td>\n",
       "      <td>100.000000</td>\n",
       "      <td>100.000000</td>\n",
       "      <td>100.000000</td>\n",
       "      <td>100.000000</td>\n",
       "      <td>...</td>\n",
       "      <td>0.000000</td>\n",
       "      <td>0.000000</td>\n",
       "      <td>0.000000</td>\n",
       "      <td>0.000000</td>\n",
       "      <td>0.000000</td>\n",
       "      <td>0.000000</td>\n",
       "      <td>0.000000</td>\n",
       "      <td>0.000000</td>\n",
       "      <td>0.000000</td>\n",
       "      <td>0.0</td>\n",
       "    </tr>\n",
       "    <tr>\n",
       "      <th>4</th>\n",
       "      <td>Aruba</td>\n",
       "      <td>ABW</td>\n",
       "      <td>Consumo de energía renovable (% del consumo to...</td>\n",
       "      <td>0.0</td>\n",
       "      <td>0.000000</td>\n",
       "      <td>0.000000</td>\n",
       "      <td>0.000000</td>\n",
       "      <td>0.000000</td>\n",
       "      <td>0.000000</td>\n",
       "      <td>0.000000</td>\n",
       "      <td>...</td>\n",
       "      <td>6.890000</td>\n",
       "      <td>6.930000</td>\n",
       "      <td>6.730000</td>\n",
       "      <td>6.990000</td>\n",
       "      <td>6.700000</td>\n",
       "      <td>8.020000</td>\n",
       "      <td>7.480000</td>\n",
       "      <td>0.000000</td>\n",
       "      <td>0.000000</td>\n",
       "      <td>0.0</td>\n",
       "    </tr>\n",
       "    <tr>\n",
       "      <th>...</th>\n",
       "      <td>...</td>\n",
       "      <td>...</td>\n",
       "      <td>...</td>\n",
       "      <td>...</td>\n",
       "      <td>...</td>\n",
       "      <td>...</td>\n",
       "      <td>...</td>\n",
       "      <td>...</td>\n",
       "      <td>...</td>\n",
       "      <td>...</td>\n",
       "      <td>...</td>\n",
       "      <td>...</td>\n",
       "      <td>...</td>\n",
       "      <td>...</td>\n",
       "      <td>...</td>\n",
       "      <td>...</td>\n",
       "      <td>...</td>\n",
       "      <td>...</td>\n",
       "      <td>...</td>\n",
       "      <td>...</td>\n",
       "      <td>...</td>\n",
       "    </tr>\n",
       "    <tr>\n",
       "      <th>4761</th>\n",
       "      <td>Zimbabwe</td>\n",
       "      <td>ZWE</td>\n",
       "      <td>Producción de electricidad a partir del petról...</td>\n",
       "      <td>0.0</td>\n",
       "      <td>0.000000</td>\n",
       "      <td>0.000000</td>\n",
       "      <td>0.000000</td>\n",
       "      <td>0.000000</td>\n",
       "      <td>0.000000</td>\n",
       "      <td>0.000000</td>\n",
       "      <td>...</td>\n",
       "      <td>0.595611</td>\n",
       "      <td>0.538600</td>\n",
       "      <td>0.494387</td>\n",
       "      <td>0.000000</td>\n",
       "      <td>0.000000</td>\n",
       "      <td>0.000000</td>\n",
       "      <td>0.000000</td>\n",
       "      <td>0.000000</td>\n",
       "      <td>0.000000</td>\n",
       "      <td>0.0</td>\n",
       "    </tr>\n",
       "    <tr>\n",
       "      <th>4762</th>\n",
       "      <td>Zimbabwe</td>\n",
       "      <td>ZWE</td>\n",
       "      <td>Producción de electricidad a partir de fuentes...</td>\n",
       "      <td>0.0</td>\n",
       "      <td>0.000000</td>\n",
       "      <td>0.000000</td>\n",
       "      <td>0.000000</td>\n",
       "      <td>0.000000</td>\n",
       "      <td>0.000000</td>\n",
       "      <td>0.000000</td>\n",
       "      <td>...</td>\n",
       "      <td>52.204807</td>\n",
       "      <td>54.169160</td>\n",
       "      <td>51.395612</td>\n",
       "      <td>0.000000</td>\n",
       "      <td>0.000000</td>\n",
       "      <td>0.000000</td>\n",
       "      <td>0.000000</td>\n",
       "      <td>0.000000</td>\n",
       "      <td>0.000000</td>\n",
       "      <td>0.0</td>\n",
       "    </tr>\n",
       "    <tr>\n",
       "      <th>4763</th>\n",
       "      <td>Zimbabwe</td>\n",
       "      <td>ZWE</td>\n",
       "      <td>Producción de electricidad a partir de carbón ...</td>\n",
       "      <td>0.0</td>\n",
       "      <td>0.000000</td>\n",
       "      <td>0.000000</td>\n",
       "      <td>0.000000</td>\n",
       "      <td>0.000000</td>\n",
       "      <td>0.000000</td>\n",
       "      <td>0.000000</td>\n",
       "      <td>...</td>\n",
       "      <td>45.464995</td>\n",
       "      <td>43.855974</td>\n",
       "      <td>46.781337</td>\n",
       "      <td>0.000000</td>\n",
       "      <td>0.000000</td>\n",
       "      <td>0.000000</td>\n",
       "      <td>0.000000</td>\n",
       "      <td>0.000000</td>\n",
       "      <td>0.000000</td>\n",
       "      <td>0.0</td>\n",
       "    </tr>\n",
       "    <tr>\n",
       "      <th>4764</th>\n",
       "      <td>Zimbabwe</td>\n",
       "      <td>ZWE</td>\n",
       "      <td>Área selvática (% del área de tierra)</td>\n",
       "      <td>0.0</td>\n",
       "      <td>0.000000</td>\n",
       "      <td>0.000000</td>\n",
       "      <td>0.000000</td>\n",
       "      <td>0.000000</td>\n",
       "      <td>0.000000</td>\n",
       "      <td>0.000000</td>\n",
       "      <td>...</td>\n",
       "      <td>45.927543</td>\n",
       "      <td>45.808453</td>\n",
       "      <td>45.689363</td>\n",
       "      <td>45.570273</td>\n",
       "      <td>45.451183</td>\n",
       "      <td>45.332093</td>\n",
       "      <td>45.213002</td>\n",
       "      <td>45.093912</td>\n",
       "      <td>0.000000</td>\n",
       "      <td>0.0</td>\n",
       "    </tr>\n",
       "    <tr>\n",
       "      <th>4765</th>\n",
       "      <td>Zimbabwe</td>\n",
       "      <td>ZWE</td>\n",
       "      <td>Tierras agrícolas (% del área de tierra)</td>\n",
       "      <td>0.0</td>\n",
       "      <td>28.396019</td>\n",
       "      <td>28.615743</td>\n",
       "      <td>28.835466</td>\n",
       "      <td>29.055189</td>\n",
       "      <td>29.223213</td>\n",
       "      <td>29.494636</td>\n",
       "      <td>...</td>\n",
       "      <td>41.876696</td>\n",
       "      <td>41.876696</td>\n",
       "      <td>41.876696</td>\n",
       "      <td>41.876696</td>\n",
       "      <td>41.876696</td>\n",
       "      <td>41.876696</td>\n",
       "      <td>0.000000</td>\n",
       "      <td>0.000000</td>\n",
       "      <td>0.000000</td>\n",
       "      <td>0.0</td>\n",
       "    </tr>\n",
       "  </tbody>\n",
       "</table>\n",
       "<p>4766 rows × 66 columns</p>\n",
       "</div>"
      ],
      "text/plain": [
       "     Country Name Country Code  \\\n",
       "0           Aruba          ABW   \n",
       "1           Aruba          ABW   \n",
       "2           Aruba          ABW   \n",
       "3           Aruba          ABW   \n",
       "4           Aruba          ABW   \n",
       "...           ...          ...   \n",
       "4761     Zimbabwe          ZWE   \n",
       "4762     Zimbabwe          ZWE   \n",
       "4763     Zimbabwe          ZWE   \n",
       "4764     Zimbabwe          ZWE   \n",
       "4765     Zimbabwe          ZWE   \n",
       "\n",
       "                                         Indicator Name     1960  \\\n",
       "0                                      Población, total  54208.0   \n",
       "1     Áreas protegidas terrestres y marinas (% del t...      0.0   \n",
       "2     Otras emisiones de gases de efecto invernadero...      0.0   \n",
       "3     Las emisiones de CO2 derivadas del consumo de ...    100.0   \n",
       "4     Consumo de energía renovable (% del consumo to...      0.0   \n",
       "...                                                 ...      ...   \n",
       "4761  Producción de electricidad a partir del petról...      0.0   \n",
       "4762  Producción de electricidad a partir de fuentes...      0.0   \n",
       "4763  Producción de electricidad a partir de carbón ...      0.0   \n",
       "4764              Área selvática (% del área de tierra)      0.0   \n",
       "4765           Tierras agrícolas (% del área de tierra)      0.0   \n",
       "\n",
       "              1961          1962          1963          1964          1965  \\\n",
       "0     55434.000000  56234.000000  56699.000000  57029.000000  57357.000000   \n",
       "1         0.000000      0.000000      0.000000      0.000000      0.000000   \n",
       "2         0.000000      0.000000      0.000000      0.000000      0.000000   \n",
       "3       100.000000    100.000000    100.000000    100.000000    100.000000   \n",
       "4         0.000000      0.000000      0.000000      0.000000      0.000000   \n",
       "...            ...           ...           ...           ...           ...   \n",
       "4761      0.000000      0.000000      0.000000      0.000000      0.000000   \n",
       "4762      0.000000      0.000000      0.000000      0.000000      0.000000   \n",
       "4763      0.000000      0.000000      0.000000      0.000000      0.000000   \n",
       "4764      0.000000      0.000000      0.000000      0.000000      0.000000   \n",
       "4765     28.396019     28.615743     28.835466     29.055189     29.223213   \n",
       "\n",
       "              1966  ...           2013           2014           2015  \\\n",
       "0     57702.000000  ...  103165.000000  103776.000000  104339.000000   \n",
       "1         0.000000  ...       0.000000       0.000000       0.000000   \n",
       "2         0.000000  ...       0.000000       0.000000       0.000000   \n",
       "3       100.000000  ...       0.000000       0.000000       0.000000   \n",
       "4         0.000000  ...       6.890000       6.930000       6.730000   \n",
       "...            ...  ...            ...            ...            ...   \n",
       "4761      0.000000  ...       0.595611       0.538600       0.494387   \n",
       "4762      0.000000  ...      52.204807      54.169160      51.395612   \n",
       "4763      0.000000  ...      45.464995      43.855974      46.781337   \n",
       "4764      0.000000  ...      45.927543      45.808453      45.689363   \n",
       "4765     29.494636  ...      41.876696      41.876696      41.876696   \n",
       "\n",
       "               2016           2017           2018           2019  \\\n",
       "0     104865.000000  105361.000000  105846.000000  106310.000000   \n",
       "1          0.527983       0.141163       0.141163       0.141164   \n",
       "2          0.000000       0.000000       0.000000       0.000000   \n",
       "3          0.000000       0.000000       0.000000       0.000000   \n",
       "4          6.990000       6.700000       8.020000       7.480000   \n",
       "...             ...            ...            ...            ...   \n",
       "4761       0.000000       0.000000       0.000000       0.000000   \n",
       "4762       0.000000       0.000000       0.000000       0.000000   \n",
       "4763       0.000000       0.000000       0.000000       0.000000   \n",
       "4764      45.570273      45.451183      45.332093      45.213002   \n",
       "4765      41.876696      41.876696      41.876696       0.000000   \n",
       "\n",
       "               2020           2021  Unnamed: 66  \n",
       "0     106766.000000  107195.000000          0.0  \n",
       "1          0.141164       0.141164          0.0  \n",
       "2          0.000000       0.000000          0.0  \n",
       "3          0.000000       0.000000          0.0  \n",
       "4          0.000000       0.000000          0.0  \n",
       "...             ...            ...          ...  \n",
       "4761       0.000000       0.000000          0.0  \n",
       "4762       0.000000       0.000000          0.0  \n",
       "4763       0.000000       0.000000          0.0  \n",
       "4764      45.093912       0.000000          0.0  \n",
       "4765       0.000000       0.000000          0.0  \n",
       "\n",
       "[4766 rows x 66 columns]"
      ]
     },
     "execution_count": 10,
     "metadata": {},
     "output_type": "execute_result"
    }
   ],
   "source": [
    "#import pandas as pd\n",
    "\n",
    "#api_externa = pd.read_csv('Data_consumo_generacion.csv')\n",
    "\n",
    "api_externa = api_externa[api_externa['Indicator Name'] != 'Población urbana (% del total)']\n",
    "api_externa = api_externa[api_externa['Indicator Name'] != 'Población urbana']\n",
    "api_externa = api_externa[api_externa['Indicator Name'] != 'Crecimiento de la población urbana (% anual)']\n",
    "api_externa = api_externa[api_externa['Indicator Name'] != 'Crecimiento de la población (% anual)']\n",
    "api_externa = api_externa[api_externa['Indicator Name'] != 'Tasa de incidencia de la pobreza, sobre la base de $1,90 por día (2011 PPA) (% de la población)']\n",
    "api_externa = api_externa[api_externa['Indicator Name'] != 'Prevalencia de desnutrición, peso para la edad (% de niños menores de cinco años)']\n",
    "api_externa = api_externa[api_externa['Indicator Name'] != 'Comunidad de trabajadores de la salud (por cada 1.000 personas)']\n",
    "api_externa = api_externa[api_externa['Indicator Name'] != 'Tasa de mortalidad, menores de 5 años (por cada 1.000)']\n",
    "api_externa = api_externa[api_externa['Indicator Name'] != 'Tasa de finalización de la educación de nivel primario, total (% del grupo etario correspondiente)']\n",
    "api_externa = api_externa[api_externa['Indicator Name'] != 'Proporción de niñas con respecto a niños en educación primaria y secundaria (%)']\n",
    "api_externa = api_externa[api_externa['Indicator Name'] != 'Agricultura, valor agregado (% del PIB)']\n",
    "api_externa = api_externa[api_externa['Indicator Name'] != 'Promedio grupal de instituciones y gestión del sector público de la CPIA (1=bajo a 6=alto)']\n",
    "api_externa = api_externa[api_externa['Indicator Name'] != 'Índice de facilidad para hacer negocios (1 = reglamentaciones más favorables para los negocios)']\n",
    "api_externa = api_externa[api_externa['Indicator Name'] != 'Áreas marinas protegidas (% de las aguas territoriales)']\n",
    "api_externa = api_externa[api_externa['Indicator Name'] != 'Áreas terrestres protegidas (% del área total de la tierra)']\n",
    "api_externa = api_externa[api_externa['Indicator Name'] != 'Extracción anual de agua dulce, total (% de recursos internos)']\n",
    "api_externa = api_externa[api_externa['Indicator Name'] != 'Extracción anual de agua dulce, total (en billones de metros cúbicos)']\n",
    "api_externa = api_externa[api_externa['Indicator Name'] != 'Población en aglomerados urbanos > 1 millón (% de la población total)']\n",
    "api_externa = api_externa[api_externa['Indicator Name'] != 'Población que vive en zonas donde la elevación es inferior a 5 metros (% de la población total)']\n",
    "api_externa = api_externa[api_externa['Indicator Name'] != 'Población urbana que vive en áreas donde la elevación es inferior a 5\\xa0metros (% de la población total)']\n",
    "api_externa = api_externa[api_externa['Indicator Name'] != 'Población rural que vive en áreas donde la elevación es inferior a 5\\xa0metros (% de la población total)']\n",
    "api_externa = api_externa[api_externa['Indicator Name'] != 'Sequías, inundaciones, temperaturas extremas (% de la población, promedio de 1990-2009)']\n",
    "api_externa = api_externa[api_externa['Indicator Name'] != 'Emisiones y absorciones netas de GEI por cambio en los usos de la tierra y la silvicultura (toneladas métricas de equivalente de CO2).']\n",
    "api_externa = api_externa[api_externa['Indicator Name'] != 'Puntuación del progreso en la reducción de los riesgos de desastres (escala de 1 a 5; 5= óptima)']\n",
    "api_externa = api_externa[api_externa['Indicator Name'] != 'Emisiones de óxido nitroso (% de cambio desde 1990)']\n",
    "api_externa = api_externa[api_externa['Indicator Name'] != 'Emisiones de metano (% de cambio desde 1990)']\n",
    "api_externa = api_externa[api_externa['Indicator Name'] != 'Emisiones de gases de efecto invernadero totales (% de cambio desde 1990)']\n",
    "api_externa = api_externa[api_externa['Indicator Name'] != 'Otras emisiones de gases de efecto invernadero (% de cambio desde 1990)']\n",
    "api_externa = api_externa[api_externa['Indicator Name'] != 'Emisiones de CO2 del consumo de combustibles sólidos (kilotoneladas)']\n",
    "api_externa = api_externa[api_externa['Indicator Name'] != 'Emisiones de CO2 (kg por PPA: paridad del poder adquisitivo del PIB de 2011)']\n",
    "api_externa = api_externa[api_externa['Indicator Name'] != 'Emisiones de CO2 (kg por PPA del PIB)']\n",
    "api_externa = api_externa[api_externa['Indicator Name'] != 'Emisiones de CO2 (toneladas métricas per cápita)']\n",
    "api_externa = api_externa[api_externa['Indicator Name'] != 'Emisiones de CO2 del consumo de combustible líquido (% del total)']\n",
    "api_externa = api_externa[api_externa['Indicator Name'] != 'Emisiones de CO2 (kg por US$ del PIB de 2010)']\n",
    "api_externa = api_externa[api_externa['Indicator Name'] != 'Emisiones de CO2 del consumo de combustible gaseoso (kilotoneladas)']\n",
    "api_externa = api_externa[api_externa['Indicator Name'] != 'Intensidad de CO2 (kg de uso de energía por kg de equivalente de petróleo)']\n",
    "api_externa = api_externa[api_externa['Indicator Name'] != 'Uso de energía (kg de equivalente de petróleo per cápita)']\n",
    "api_externa = api_externa[api_externa['Indicator Name'] != 'Uso de energía (kg de equivalente de petróleo) por US$1.000 PIB (PPA constantes de 2011)']\n",
    "api_externa = api_externa[api_externa['Indicator Name'] != 'Acceso a la electricidad (% de población)']\n",
    "api_externa = api_externa[api_externa['Indicator Name'] != 'Inversión extranjera directa, entrada neta de capital (% del PIB)']\n",
    "api_externa = api_externa[api_externa['Indicator Name'] != 'Rendimiento de los cereales (kg por hectárea)']\n",
    "api_externa = api_externa[api_externa['Indicator Name'] != 'Promedio detallado de precipitaciones (mm anuales)']\n",
    "api_externa = api_externa[api_externa['Indicator Name'] != 'Tierras agrícolas de regadío (% del total de tierras agrícolas)']\n",
    "api_externa = api_externa[api_externa['Indicator Name'] != 'Área selvática  (kilómetros cuadrados)']\n",
    "api_externa = api_externa[api_externa['Indicator Name'] != 'Superficie del terreno donde la elevación es inferior a 5 metros (% de la superficie total)']\n",
    "api_externa = api_externa[api_externa['Indicator Name'] != 'Área de tierra urbana donde la elevación es inferior a 5\\xa0metros (% de la superficie total)']\n",
    "api_externa = api_externa[api_externa['Indicator Name'] != 'Área de tierra urbana donde la elevación es inferior a 5\\xa0metros (kilómetros cuadrados)']\n",
    "api_externa = api_externa[api_externa['Indicator Name'] != 'Área de tierra rural donde la elevación es inferior a 5\\xa0metros (% de la superficie total)']\n",
    "api_externa = api_externa[api_externa['Indicator Name'] != 'Área de tierra rural donde la elevación es inferior a 5\\xa0metros (kilómetros cuadrados)']\n",
    "api_externa = api_externa[api_externa['Indicator Name'] != 'Tierras cultivables (% del área de tierra)']\n",
    "api_externa = api_externa[api_externa['Indicator Name'] != 'Tierras agrícolas (kilómetros cuadrados)']\n",
    "\n",
    "api_externa.fillna(0,inplace=True)\n",
    "\n",
    "api_externa['filtro'] = api_externa.iloc[:,4:-1].sum(axis=1)\n",
    "\n",
    "api_externa = api_externa[api_externa['filtro'] != 0]\n",
    "\n",
    "api_externa = api_externa.drop('filtro',axis=1)\n",
    "\n",
    "api_externa = api_externa.reset_index()\n",
    "\n",
    "api_externa = api_externa.drop('index',axis=1)\n",
    "\n",
    "api_externa = api_externa.drop('Indicator Code',axis=1)\n",
    "\n",
    "#api_externa.to_csv('DataSet_ext.csv')\n",
    "\n",
    "api_externa"
   ]
  },
  {
   "cell_type": "markdown",
   "metadata": {},
   "source": [
    "<div style=\"color:#fb5607\">Modificación de la exportación del dataset del código de Loli (Maria)"
   ]
  },
  {
   "cell_type": "code",
   "execution_count": 11,
   "metadata": {},
   "outputs": [],
   "source": [
    "api_externa.to_csv('DataSet_ext.csv', index= False)"
   ]
  },
  {
   "cell_type": "markdown",
   "metadata": {},
   "source": [
    "<div style=\"color:#fb5607\">Por si se necesita resetar la memoria"
   ]
  },
  {
   "cell_type": "code",
   "execution_count": 12,
   "metadata": {},
   "outputs": [],
   "source": [
    "# %reset"
   ]
  },
  {
   "cell_type": "code",
   "execution_count": 13,
   "metadata": {},
   "outputs": [],
   "source": [
    "# import pandas as pd\n",
    "# import numpy as np"
   ]
  },
  {
   "cell_type": "code",
   "execution_count": 14,
   "metadata": {},
   "outputs": [],
   "source": [
    "dataset = pd.read_csv('DataSet_ext.csv')"
   ]
  },
  {
   "cell_type": "code",
   "execution_count": 15,
   "metadata": {},
   "outputs": [],
   "source": [
    "dataset = api_externa.copy()"
   ]
  },
  {
   "cell_type": "markdown",
   "metadata": {},
   "source": [
    "<div style=\"color:#fb5607\">A continuación se hace un diccionario con los nombres de los países del dataframe creado como keis y los paises en español, ya que se debe filtrar estos con una lista de paises que se encuentra en español.</p>\n",
    "También, se normalizan nombres como  <b>'Congo, República Democrática del'</b></div>"
   ]
  },
  {
   "cell_type": "code",
   "execution_count": 16,
   "metadata": {},
   "outputs": [],
   "source": [
    "equivalencias_paise = {'Afghanistan': 'Afganistán',\n",
    " 'Albania': 'Albania',\n",
    " 'Germany': 'Alemania',\n",
    " 'Germany: East': 'Alemania',\n",
    " 'Germany: West': 'Alemania',\n",
    " 'Angola': 'Angola',\n",
    " 'Antigua and Barbuda': 'Antigua y Barbuda',\n",
    " 'Saudi Arabia': 'Arabia Saudita',\n",
    " 'Algeria': 'Argelia',\n",
    " 'Argentina': 'Argentina',\n",
    " 'Armenia': 'Armenia',\n",
    " 'Aruba': 'Aruba',\n",
    " 'Australia': 'Australia',\n",
    " 'Austria': 'Austria',\n",
    " 'Azerbaijan': 'Azerbaiyán',\n",
    " 'The Bahamas': 'Bahamas',\n",
    " 'Bangladés': 'Bangladés',\n",
    " 'Barbados': 'Barbados',\n",
    " 'Bahrain': 'Baréin',\n",
    " 'Belgium': 'Bélgica',\n",
    " 'Belize': 'Belice',\n",
    " 'Benin': 'Benín',\n",
    " 'Belarus': 'Bielorrusia',\n",
    " 'Burma': 'Birmania',\n",
    " 'Bolivia': 'Bolivia',\n",
    " 'Bosnia and Herzegovina': 'Bosnia y Herzegovina',\n",
    " 'Botsuana': 'Botsuana',\n",
    " 'Brazil': 'Brasil',\n",
    " 'Brunei': 'Brunei Darussalam',\n",
    " 'Bulgaria': 'Bulgaria',\n",
    " 'Burkina Faso': 'Burkina Faso',\n",
    " 'Burundi': 'Burundi',\n",
    " 'Bhutan': 'Bután',\n",
    " 'Cabo Verde': 'Cabo Verde',\n",
    " 'Cambodia': 'Camboya',\n",
    " 'Cameroon': 'Camerún',\n",
    " 'Canada': 'Canadá',\n",
    " 'Chad': 'Chad',\n",
    " 'Chile': 'Chile',\n",
    " 'China': 'China',\n",
    " 'Taiwan': 'China',\n",
    " 'Cyprus': 'Chipre',\n",
    " 'Colombia': 'Colombia',\n",
    " 'Comoros': 'Comoras',\n",
    " 'North Korea': 'Corea del Norte',\n",
    " 'South Korea': 'Corea del Sur',\n",
    " 'Côte d’Ivoire': 'Costa de Marfil',\n",
    " 'Costa Rica': 'Costa Rica',\n",
    " 'Croatia': 'Croacia',\n",
    " 'Former Yugoslavia': 'Croacia',\n",
    " 'Cuba': 'Cuba',\n",
    " 'Denmark': 'Dinamarca',\n",
    " 'Dominica': 'Dominica',\n",
    " 'Ecuador': 'Ecuador',\n",
    " 'Egypt': 'Egipto',\n",
    " 'El Salvador': 'El Salvador',\n",
    " 'United Arab Emirates': 'Emiratos Árabes Unidos',\n",
    " 'Eritrea': 'Eritrea',\n",
    " 'Slovenia': 'Eslovenia',\n",
    " 'Spain': 'España',\n",
    " 'United States': 'Estados Unidos',\n",
    " 'Guam': 'Estados Unidos',\n",
    " 'Northern Mariana Islands': 'Estados Unidos',\n",
    " 'U.S. Pacific Islands': 'Estados Unidos',\n",
    " 'U.S. Territories': 'Estados Unidos',\n",
    " 'U.S. Virgin Islands': 'Estados Unidos',\n",
    " 'Wake Island': 'Estados Unidos',\n",
    " 'Estonia': 'Estonia',\n",
    " 'Ethiopia': 'Etiopía',\n",
    " 'Russia': 'Federación de Rusia',\n",
    " 'Former U.S.S.R.': 'Federación de Rusia',\n",
    " 'Philippines': 'Filipinas',\n",
    " 'Finland': 'Finlandia',\n",
    " 'Fiyi': 'Fiyi',\n",
    " 'France': 'Francia',\n",
    " 'French Guiana': 'Francia',\n",
    " 'French Polynesia': 'Francia',\n",
    " 'Saint Pierre and Miquelon': 'Francia',\n",
    " 'Guadeloupe': 'Francia',\n",
    " 'Gabon': 'Gabón',\n",
    " 'Gambia: The': 'Gambia',\n",
    " 'Georgia': 'Georgia',\n",
    " 'Ghana': 'Ghana',\n",
    " 'Grenada': 'Granada',\n",
    " 'Greece': 'Grecia',\n",
    " 'Guatemala': 'Guatemala',\n",
    " 'Guinea': 'Guinea',\n",
    " 'Equatorial Guinea': 'Guinea Ecuatorial',\n",
    " 'Guinea-Bisáu': 'Guinea-Bisáu',\n",
    " 'Guyana': 'Guyana',\n",
    " 'Haiti': 'Haití',\n",
    " 'Honduras': 'Honduras',\n",
    " 'Hungary': 'Hungría',\n",
    " 'India': 'India',\n",
    " 'Indonesia': 'Indonesia',\n",
    " 'Irak': 'Irán',\n",
    " 'Iran': 'Iraq',\n",
    " 'Ireland': 'Irlanda',\n",
    " 'Iceland': 'Islandia',\n",
    " 'Solomon Islands': 'Islas Salomón',\n",
    " 'Israel': 'Israel',\n",
    " 'Italy': 'Italia',\n",
    " 'Jamaica': 'Jamaica',\n",
    " 'Japan': 'Japón',\n",
    " 'Jordan': 'Jordania',\n",
    " 'Kazakhstan': 'Kazajistán',\n",
    " 'Kenia': 'Kenia',\n",
    " 'Kyrgyzstan': 'Kirguistán',\n",
    " 'Kiribati': 'Kiribati',\n",
    " 'Kosovo': 'Kosovo',\n",
    " 'Kuwait': 'Kuwait',\n",
    " 'Laos': 'Laos',\n",
    " 'Lesoto': 'Lesoto',\n",
    " 'Latvia': 'Letonia',\n",
    " 'Lebanon': 'Líbano',\n",
    " 'Liberia': 'Liberia',\n",
    " 'Libya': 'Libia',\n",
    " 'Lithuania': 'Lituania',\n",
    " 'Luxembourg': 'Luxemburgo',\n",
    " 'North Macedonia': 'Macedonia del Norte',\n",
    " 'Madagascar': 'Madagascar',\n",
    " 'Malaysia': 'Malasia',\n",
    " 'Malawi': 'Malawi',\n",
    " 'Maldives': 'Maldivas',\n",
    " 'Mali': 'Malí',\n",
    " 'Malta': 'Malta',\n",
    " 'Morocco': 'Marruecos',\n",
    " 'Mauritius': 'Mauricio',\n",
    " 'Mauritania': 'Mauritania',\n",
    " 'Mexico': 'México',\n",
    " 'Micronesia': 'Micronesia',\n",
    " 'Mongolia': 'Mongolia',\n",
    " 'Montenegro': 'Montenegro',\n",
    " 'Mozambique': 'Mozambique',\n",
    " 'Namibia': 'Namibia',\n",
    " 'Nauru': 'Nauru',\n",
    " 'Nepal': 'Nepal',\n",
    " 'Nicaragua': 'Nicaragua',\n",
    " 'Niger': 'Níger',\n",
    " 'Nigeria': 'Nigeria',\n",
    " 'Norway': 'Noruega',\n",
    " 'New Zealand': 'Nueva Zelanda',\n",
    " 'Niue': 'Nueva Zelanda',\n",
    " 'Oman': 'Omán',\n",
    " 'Netherlands': 'Países Bajos',\n",
    " 'Netherlands Antilles': 'Países Bajos',\n",
    " 'Pakistan': 'Pakistán',\n",
    " 'Panama': 'Panamá',\n",
    " 'Papua New Guinea': 'Papúa Nueva Guinea',\n",
    " 'Paraguay': 'Paraguay',\n",
    " 'Peru': 'Perú',\n",
    " 'Poland': 'Polonia',\n",
    " 'Portugal': 'Portugal',\n",
    " 'Qatar': 'Qatar',\n",
    " 'United Kingdom': 'Reino Unido',\n",
    " 'Gibraltar': 'Reino Unido',\n",
    " 'Turks and Caicos Islands': 'Reino Unido',\n",
    " 'Central African Republic': 'epública Centroafricana',\n",
    " 'Czech Republic': 'República Checa',\n",
    " 'Former Czechoslovakia': 'República Checa',\n",
    " 'Moldova': 'República de Moldova',\n",
    " 'Congo-Brazzaville': 'República del Congo',\n",
    " 'Congo-Kinshasa': 'República Democrática del Congo',\n",
    " 'Dominican Republic': 'República Dominicana',\n",
    " 'Slovakia': 'República Eslovaca',\n",
    " 'Romania': 'Rumania',\n",
    " 'Rwanda': 'Rwanda',\n",
    " 'Samoa': 'Samoa',\n",
    " 'Saint Kitts and Nevis': 'San Cristóbal y Nieves',\n",
    " 'Puerto Rico': 'San Marino',\n",
    " 'Saint Vincent/Grenadines': 'San Vicente y las Granadinas',\n",
    " 'Saint Lucia': 'Santa Lucía',\n",
    " 'Sao Tome and Principe': 'Santo Tomé y Príncipe',\n",
    " 'Senegal': 'Senegal',\n",
    " 'Serbia': 'Serbia',\n",
    " 'Former Serbia and Montenegro': 'Serbia',\n",
    " 'Seychelles': 'Seychelles',\n",
    " 'Sierra Leone': 'Sierra Leona',\n",
    " 'Singapore': 'Singapur',\n",
    " 'Syria': 'Siria',\n",
    " 'Somalia': 'Somalia',\n",
    " 'Sri Lanka': 'Sri Lanka',\n",
    " 'Suazilandia': 'Suazilandia',\n",
    " 'South Africa': 'Sudáfrica',\n",
    " 'Sudan': 'Sudán',\n",
    " 'South Sudan': 'Sudán del Sur',\n",
    " 'Sweden': 'Suecia',\n",
    " 'Switzerland': 'Suiza',\n",
    " 'Surinam': 'Surinam',\n",
    " 'Thailand': 'Tailandia',\n",
    " 'Tanzania': 'Tanzanía',\n",
    " 'Tajikistan': 'Tayikistán',\n",
    " 'Timor Oriental': 'Timor Oriental',\n",
    " 'Togo': 'Togo',\n",
    " 'Tonga': 'Tonga',\n",
    " 'Trinidad and Tobago': 'Trinidad y Tobago',\n",
    " 'Tunisia': 'Túnez',\n",
    " 'Turkmenistan': 'Turkmenistán',\n",
    " 'Turkey': 'Turquía',\n",
    " 'Tuvalu': 'Tuvalu',\n",
    " 'Ukraine': 'Ucrania',\n",
    " 'Uganda': 'Uganda',\n",
    " 'Uruguay': 'Uruguay',\n",
    " 'Uzbekistan': 'Uzbekistán',\n",
    " 'Vanuatu': 'Vanuatu',\n",
    " 'Venezuela': 'Venezuela',\n",
    " 'Vietnam': 'Vietnam',\n",
    " 'Yemen': 'Yemen',\n",
    " 'Yibuti': 'Yibuti',\n",
    " 'Zambia': 'Zambia',\n",
    " 'Zimbabue': 'Zimbabue'}"
   ]
  },
  {
   "cell_type": "markdown",
   "metadata": {},
   "source": [
    "<div style=\"color:#fb5607\">Se utiliza el diccionario creado para cambiar los nombres de los países"
   ]
  },
  {
   "cell_type": "code",
   "execution_count": 17,
   "metadata": {},
   "outputs": [],
   "source": [
    "dataset.replace({'Country Name': equivalencias_paise}, inplace = True)"
   ]
  },
  {
   "cell_type": "markdown",
   "metadata": {},
   "source": [
    "<div style=\"color:#fb5607\">Se carga la lista de países, para compararla con los países que están en el DataFrame"
   ]
  },
  {
   "cell_type": "code",
   "execution_count": 18,
   "metadata": {},
   "outputs": [],
   "source": [
    "paises = pd.read_csv('Paises.csv')"
   ]
  },
  {
   "cell_type": "markdown",
   "metadata": {},
   "source": [
    "<div style=\"color:#fb5607\">Se ordena aalfabeticamente los nombres de los países"
   ]
  },
  {
   "cell_type": "code",
   "execution_count": 19,
   "metadata": {},
   "outputs": [],
   "source": [
    "paises.sort_values(by='Nombre_Pais', inplace=True)"
   ]
  },
  {
   "cell_type": "code",
   "execution_count": 20,
   "metadata": {},
   "outputs": [],
   "source": [
    "#paises.insert(0,'Id_Pais',[i+1 for i,_ in enumerate(paises.Pais)])"
   ]
  },
  {
   "cell_type": "code",
   "execution_count": 21,
   "metadata": {},
   "outputs": [],
   "source": [
    "#paises.rename(columns=dict(zip(paises.columns,['Id_Pais','Nombre_Pais'])), inplace=True)"
   ]
  },
  {
   "cell_type": "code",
   "execution_count": 22,
   "metadata": {},
   "outputs": [],
   "source": [
    "#paises.reset_index(inplace=True, drop=True)"
   ]
  },
  {
   "cell_type": "code",
   "execution_count": 23,
   "metadata": {},
   "outputs": [],
   "source": [
    "#paises['Codigo_Pais'] = paises['Nombre_Pais'].map(dict(zip(dataset['Country Name'],dataset['Country Code'])))"
   ]
  },
  {
   "cell_type": "code",
   "execution_count": 24,
   "metadata": {},
   "outputs": [],
   "source": [
    "#paises.to_csv('Paises_2.csv', index=False)"
   ]
  },
  {
   "cell_type": "markdown",
   "metadata": {},
   "source": [
    "<div style=\"color:#fb5607\">Se filtran, con una mascara, los países (se excluye la información de las regiones)"
   ]
  },
  {
   "cell_type": "code",
   "execution_count": 25,
   "metadata": {},
   "outputs": [],
   "source": [
    "dataset = dataset[dataset['Country Name'].isin(paises['Nombre_Pais'])]\n"
   ]
  },
  {
   "cell_type": "markdown",
   "metadata": {},
   "source": [
    "<div style=\"color:#fb5607\">Se compara el número de países que quedaron en el DataFrame con los números de países que hay en la lista"
   ]
  },
  {
   "cell_type": "code",
   "execution_count": 26,
   "metadata": {},
   "outputs": [
    {
     "name": "stdout",
     "output_type": "stream",
     "text": [
      "La lista contiene 198 países, y el DataFrame 194 países\n"
     ]
    }
   ],
   "source": [
    "print(f\"La lista contiene {len(paises)} países, y el DataFrame {len(dataset['Country Name'].unique())} países\")"
   ]
  },
  {
   "cell_type": "markdown",
   "metadata": {},
   "source": [
    "<div style=\"color:#fb5607\">Se ordenan alfabeticamente los países"
   ]
  },
  {
   "cell_type": "code",
   "execution_count": 27,
   "metadata": {},
   "outputs": [],
   "source": [
    "dataset = dataset.sort_values('Country Name')"
   ]
  },
  {
   "cell_type": "markdown",
   "metadata": {},
   "source": [
    "<div style=\"color:#fb5607\">Se elimina la columna de indice, si está presente en el dataset importado"
   ]
  },
  {
   "cell_type": "code",
   "execution_count": 28,
   "metadata": {},
   "outputs": [],
   "source": [
    "dataset.drop(['Unnamed: 66'], axis = 1, inplace = True)"
   ]
  },
  {
   "cell_type": "markdown",
   "metadata": {},
   "source": [
    "<div style=\"color:#fb5607\">Se crea una lista con los nombres de las columnas del DataFrame"
   ]
  },
  {
   "cell_type": "code",
   "execution_count": 29,
   "metadata": {},
   "outputs": [],
   "source": [
    "columnas = dataset.columns"
   ]
  },
  {
   "cell_type": "markdown",
   "metadata": {},
   "source": [
    "<div style=\"color:#fb5607\">Se ubican los años (que están en columna) en una sola columna, para ello se usa la lista de los nombres del DataFrame"
   ]
  },
  {
   "cell_type": "code",
   "execution_count": 30,
   "metadata": {},
   "outputs": [],
   "source": [
    "dataset = dataset.melt(id_vars = columnas[:3], var_name = 'Año', value_name='valores')"
   ]
  },
  {
   "cell_type": "markdown",
   "metadata": {},
   "source": [
    "<div style=\"color:#fb5607\">Se crea la columna indice uniendo las columnas Country Name, Country Code y Año"
   ]
  },
  {
   "cell_type": "code",
   "execution_count": 31,
   "metadata": {},
   "outputs": [],
   "source": [
    "dataset['indice'] = dataset[['Country Name', 'Country Code', 'Año']].agg('//'.join, axis = 1)"
   ]
  },
  {
   "cell_type": "markdown",
   "metadata": {},
   "source": [
    "<div style=\"color:#fb5607\"><b>Se eiliminan las columnas Country Name, Country Code y Año"
   ]
  },
  {
   "cell_type": "code",
   "execution_count": 32,
   "metadata": {},
   "outputs": [],
   "source": [
    "dataset.drop(['Country Name', 'Country Code', 'Año'], axis = 1, inplace = True)"
   ]
  },
  {
   "cell_type": "markdown",
   "metadata": {},
   "source": [
    "<div style=\"color:#fb5607\"><b>Se usa la columna indice para distribuir los valores relacionados con la columna 'Indicador Name'"
   ]
  },
  {
   "cell_type": "code",
   "execution_count": 33,
   "metadata": {},
   "outputs": [],
   "source": [
    "dataset = dataset.pivot(index ='indice', columns ='Indicator Name', values = 'valores')"
   ]
  },
  {
   "cell_type": "markdown",
   "metadata": {},
   "source": [
    "<div style=\"color:#fb5607\"><b>Se resetea los indices para recuperar la columna indice y los valores de las columnas Country Name, Country Code y Año"
   ]
  },
  {
   "cell_type": "code",
   "execution_count": 34,
   "metadata": {},
   "outputs": [],
   "source": [
    "dataset.reset_index(inplace = True)"
   ]
  },
  {
   "cell_type": "markdown",
   "metadata": {},
   "source": [
    "<div style=\"color:#fb5607\"><b>Se usa un nuevo DataFrame para que las columnas Country Name, Country Code y Año se puedan ubicar en en los posiciones 0,1 y 2"
   ]
  },
  {
   "cell_type": "code",
   "execution_count": 35,
   "metadata": {},
   "outputs": [],
   "source": [
    "dataset2 = pd.DataFrame()"
   ]
  },
  {
   "cell_type": "markdown",
   "metadata": {},
   "source": [
    "<div style=\"color:#fb5607\"><b>Se expande la columna indice en las columnas Country Name, Country Code y Año en el nuevo DataFrame"
   ]
  },
  {
   "cell_type": "code",
   "execution_count": 36,
   "metadata": {},
   "outputs": [],
   "source": [
    "dataset2[['Country Name', 'Country Code', 'Año']] = dataset['indice'].str.split('//',expand = True)"
   ]
  },
  {
   "cell_type": "code",
   "execution_count": 37,
   "metadata": {},
   "outputs": [],
   "source": [
    "dataset.drop('indice', axis = 1, inplace = True)"
   ]
  },
  {
   "cell_type": "markdown",
   "metadata": {},
   "source": [
    "<div style=\"color:#fb5607\"><b>Se inseran las columnas Country Name, Country Code y Año en las tres primeras columnas."
   ]
  },
  {
   "cell_type": "code",
   "execution_count": 38,
   "metadata": {},
   "outputs": [],
   "source": [
    "for i,j in enumerate(dataset2.columns):\n",
    "    dataset.insert(i,j, dataset2[j])"
   ]
  },
  {
   "cell_type": "code",
   "execution_count": 39,
   "metadata": {},
   "outputs": [],
   "source": [
    "resultados = dataset.fillna(0)"
   ]
  },
  {
   "cell_type": "markdown",
   "metadata": {},
   "source": [
    "<div style=\"color:#fb5607\"><b>Se elimna una columna cuyos valores se encuentran distribuidas en 3 columna ya que el nombre esta muy largo y esto difculta la importación del dataset en mySQL"
   ]
  },
  {
   "cell_type": "code",
   "execution_count": 40,
   "metadata": {},
   "outputs": [],
   "source": [
    "resultados.drop('Otras emisiones de gases de efecto invernadero, hidrofluorocarbonos (HFC),  perfluorocarbonos (PFC) y hexafluoruro de azufre (SF6) (miles de toneladas métricas de equivalente de CO2)',axis = 1, inplace = True)"
   ]
  },
  {
   "cell_type": "markdown",
   "metadata": {},
   "source": [
    "<div style=\"color:#fb5607\"><b>Se hace un listado (lista) de los nombres de las columnas y otro con los nombres siplificados para renombrar las columna. Este paso es necesario para poder iportar el dataset en my SQL."
   ]
  },
  {
   "cell_type": "code",
   "execution_count": 41,
   "metadata": {},
   "outputs": [],
   "source": [
    "nombres_viejos = list(resultados.columns)"
   ]
  },
  {
   "cell_type": "code",
   "execution_count": 42,
   "metadata": {},
   "outputs": [],
   "source": [
    "nombres_nuevos = ['Country Name', 'Country Code', 'Año',\n",
    "       'Consumo de energía eléctrica (kWh per cápita)',\n",
    "       'Consumo de energía renovable (% del total)',\n",
    "       'Emisiones de CO2 (kt)',\n",
    "       'Emisiones de CO2, combustible gaseoso (% del total)',\n",
    "       'Emisiones de CO2, combustibles sólidos (% del total)',\n",
    "       'Emisiones de gas HFC (miles de Tm de equivalente de CO2)',\n",
    "       'Emisiones de gas PFC (miles de Tm de equivalente de CO2)',\n",
    "       'Emisiones de gas SF6 (miles de Tm de equivalente de CO2)',\n",
    "       'Emisiones de gases de efecto invernadero (kt equi de CO2)',\n",
    "       'Emisiones de metano (kt de equivalente de CO2)',\n",
    "       'Emisiones de óxido nitroso (miles de Tm de equivalente de CO2)',\n",
    "       'Las emisiones de CO2, combustible líquido ( % del total)',\n",
    "       'Población, total',\n",
    "       'Prod de electricidad a partir de carbón  (% del total)',\n",
    "       'Prod de elect fuentes de gas natural (% del total)',\n",
    "       'Prod de elect fuentes hidroeléctricas (% del total)',\n",
    "       'Prod de elect fuentes nucleares (% del total)',\n",
    "       'Prod de elect fuentes renovables, no hidr (% del total)',\n",
    "       'Prod de elect fuentes renovables, no hidr (kWh)',\n",
    "       'Prod de elect petróleo (% del total)',\n",
    "       'Prod de elect fuentes renovables (% del total)',\n",
    "       'Tierras agrícolas (% del área de tierra)',\n",
    "       'Área selvática (% del área de tierra)',\n",
    "       'Áreas protegidas terrestres y marinas (% de la superficie)']"
   ]
  },
  {
   "cell_type": "markdown",
   "metadata": {},
   "source": [
    "<div style=\"color:#fb5607\"><b>Aquí se verifica que los dos listados creados en los pasos anteriores contengan el mismo número de elementos."
   ]
  },
  {
   "cell_type": "code",
   "execution_count": 43,
   "metadata": {},
   "outputs": [],
   "source": [
    "if len(nombres_viejos) == len(nombres_nuevos):\n",
    "    relaciones_nombres = dict(zip(nombres_viejos,nombres_nuevos))\n",
    "else:\n",
    "    print('Verificar lista de nobre nuevos')"
   ]
  },
  {
   "cell_type": "markdown",
   "metadata": {},
   "source": [
    "<div style=\"color:#fb5607\"><b>Se reemplazan los nombres de las columna por otros más cortos para poder importar el dataset en mySQL"
   ]
  },
  {
   "cell_type": "code",
   "execution_count": 44,
   "metadata": {},
   "outputs": [],
   "source": [
    "resultados.rename(columns= relaciones_nombres, inplace = True)"
   ]
  },
  {
   "cell_type": "code",
   "execution_count": 45,
   "metadata": {},
   "outputs": [],
   "source": [
    "resultados.insert(0,'Id_Pais',dataset['Country Name'].map(dict(zip(paises.Nombre_Pais,paises.Id_Pais))))"
   ]
  },
  {
   "cell_type": "code",
   "execution_count": 46,
   "metadata": {},
   "outputs": [],
   "source": [
    "resultados.drop(resultados.columns[1:3], axis=1, inplace=True)"
   ]
  },
  {
   "cell_type": "markdown",
   "metadata": {},
   "source": [
    "<div style=\"color:#fb5607\"><b>Se guarda el DataFrame en con codificación latin-1 para que no presente error de codificación al importar en mySQl"
   ]
  },
  {
   "cell_type": "code",
   "execution_count": 47,
   "metadata": {},
   "outputs": [],
   "source": [
    "resultados.to_csv('data_consumo_generacion_todo.csv', sep = ',', encoding = 'latin-1', index = False)"
   ]
  },
  {
   "cell_type": "code",
   "execution_count": 49,
   "metadata": {},
   "outputs": [
    {
     "name": "stderr",
     "output_type": "stream",
     "text": [
      "c:\\Users\\Fernando Aleisy\\AppData\\Local\\Programs\\Python\\Python310\\lib\\site-packages\\pandas\\io\\sql.py:1663: UserWarning: The provided table name 'consumo_generacion_CO2' is not found exactly as such in the database after writing the table, possibly due to case sensitivity issues. Consider using lower case table names.\n",
      "  warnings.warn(msg, UserWarning)\n"
     ]
    },
    {
     "data": {
      "text/plain": [
       "12028"
      ]
     },
     "execution_count": 49,
     "metadata": {},
     "output_type": "execute_result"
    }
   ],
   "source": [
    "database_username='root' # Nomre del cliente oculto (para WorkBench) que has creado\n",
    "database_password='C13nc14d3d4t0s'\n",
    "database_ip='localhost'\n",
    "database_name='biodatascience'\n",
    "database_conection=db.create_engine(f'mysql+pymysql://{database_username}:{database_password}@{database_ip}/{database_name}')\n",
    "coneccion=database_conection.connect()\n",
    "metadata=db.MetaData()\n",
    "\n",
    "resultados.to_sql('consumo_generacion_CO2',coneccion, index=False) \n",
    "# data es  el nombre del Dataframe y ventas es el nombre que quiere para la tabla"
   ]
  }
 ],
 "metadata": {
  "kernelspec": {
   "display_name": "Python 3.10.4 64-bit",
   "language": "python",
   "name": "python3"
  },
  "language_info": {
   "codemirror_mode": {
    "name": "ipython",
    "version": 3
   },
   "file_extension": ".py",
   "mimetype": "text/x-python",
   "name": "python",
   "nbconvert_exporter": "python",
   "pygments_lexer": "ipython3",
   "version": "3.10.4"
  },
  "orig_nbformat": 4,
  "vscode": {
   "interpreter": {
    "hash": "45e2e186b83fae5600f279aff39b9b31db88e58868fc04a60be037eb2c4bfa89"
   }
  }
 },
 "nbformat": 4,
 "nbformat_minor": 2
}
