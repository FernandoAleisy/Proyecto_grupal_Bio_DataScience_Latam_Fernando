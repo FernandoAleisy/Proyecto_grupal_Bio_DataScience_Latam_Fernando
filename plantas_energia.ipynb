{
 "cells": [
  {
   "cell_type": "markdown",
   "metadata": {},
   "source": [
    "# api global power plant"
   ]
  },
  {
   "cell_type": "code",
   "execution_count": 1,
   "metadata": {},
   "outputs": [],
   "source": [
    "import pandas as pd\n",
    "from pandas.io import sql\n",
    "import sqlalchemy as db\n",
    "from datetime import datetime, date\n",
    "import numpy as np\n",
    "from scipy import stats\n",
    "import pymysql"
   ]
  },
  {
   "cell_type": "code",
   "execution_count": 2,
   "metadata": {},
   "outputs": [
    {
     "name": "stderr",
     "output_type": "stream",
     "text": [
      "C:\\Users\\Fernando Aleisy\\AppData\\Local\\Temp\\ipykernel_14808\\2295192830.py:1: DtypeWarning: Columns (10) have mixed types. Specify dtype option on import or set low_memory=False.\n",
      "  global_power_plant = pd.read_csv('global_power_plant_database.csv')\n"
     ]
    }
   ],
   "source": [
    "global_power_plant = pd.read_csv('global_power_plant_database.csv')\n"
   ]
  },
  {
   "cell_type": "code",
   "execution_count": 3,
   "metadata": {},
   "outputs": [],
   "source": [
    "plantas_energia = global_power_plant[['country',\n",
    "                                     'country_long',\n",
    "                                     'name',\n",
    "                                     'gppd_idnr',\n",
    "                                     'capacity_mw',\n",
    "                                     'latitude',\n",
    "                                     'longitude',\n",
    "                                     'primary_fuel',\n",
    "                                     'other_fuel1',\n",
    "                                     'other_fuel2',\n",
    "                                     'other_fuel3',\n",
    "                                     'source',\n",
    "                                     'geolocation_source']]"
   ]
  },
  {
   "cell_type": "code",
   "execution_count": 4,
   "metadata": {},
   "outputs": [
    {
     "data": {
      "text/plain": [
       "0        nan\n",
       "1        nan\n",
       "2        nan\n",
       "3        nan\n",
       "4        nan\n",
       "        ... \n",
       "34931    nan\n",
       "34932    nan\n",
       "34933    nan\n",
       "34934    nan\n",
       "34935    nan\n",
       "Name: other_fuel3, Length: 34936, dtype: object"
      ]
     },
     "execution_count": 4,
     "metadata": {},
     "output_type": "execute_result"
    }
   ],
   "source": [
    "plantas_energia['other_fuel1'].astype('str')\n",
    "plantas_energia['other_fuel2'].astype('str')\n",
    "plantas_energia['other_fuel3'].astype('str')"
   ]
  },
  {
   "cell_type": "code",
   "execution_count": 5,
   "metadata": {},
   "outputs": [
    {
     "name": "stderr",
     "output_type": "stream",
     "text": [
      "C:\\Users\\Fernando Aleisy\\AppData\\Local\\Temp\\ipykernel_14808\\1117253419.py:1: SettingWithCopyWarning: \n",
      "A value is trying to be set on a copy of a slice from a DataFrame.\n",
      "Try using .loc[row_indexer,col_indexer] = value instead\n",
      "\n",
      "See the caveats in the documentation: https://pandas.pydata.org/pandas-docs/stable/user_guide/indexing.html#returning-a-view-versus-a-copy\n",
      "  plantas_energia[\"other_fuel\"] = plantas_energia['other_fuel1'] + ' , ' + plantas_energia['other_fuel2'] + ' , ' + plantas_energia['other_fuel3']\n"
     ]
    }
   ],
   "source": [
    "plantas_energia[\"other_fuel\"] = plantas_energia['other_fuel1'] + ' , ' + plantas_energia['other_fuel2'] + ' , ' + plantas_energia['other_fuel3']"
   ]
  },
  {
   "cell_type": "code",
   "execution_count": 6,
   "metadata": {},
   "outputs": [],
   "source": [
    "plantas_energia = plantas_energia.drop('other_fuel1',axis=1)\n",
    "plantas_energia = plantas_energia.drop('other_fuel2',axis=1)\n",
    "plantas_energia = plantas_energia.drop('other_fuel3', axis=1)"
   ]
  },
  {
   "cell_type": "code",
   "execution_count": 7,
   "metadata": {},
   "outputs": [],
   "source": [
    "plantas_energia.fillna(0,inplace=True)"
   ]
  },
  {
   "cell_type": "code",
   "execution_count": 8,
   "metadata": {},
   "outputs": [],
   "source": [
    "plantas_energia = plantas_energia.reindex(columns=['country',\n",
    "                                                   'country_long',\n",
    "                                                   'name',\n",
    "                                                   'primary_fuel',\n",
    "                                                   'other_fuel',\n",
    "                                                   'source',\n",
    "                                                   'capacity_mw',\n",
    "                                                   'gppd_idnr',\n",
    "                                                   'latitude',\n",
    "                                                   'longitude',\n",
    "                                                   'geolocation_source'])"
   ]
  },
  {
   "cell_type": "code",
   "execution_count": 9,
   "metadata": {},
   "outputs": [],
   "source": [
    "plantas_energia.columns = ['Codigo Pais',\n",
    "                           'Pais',\n",
    "                           'Nombre',\n",
    "                           'Combustible Principal',\n",
    "                           'Otros Combustibles',\n",
    "                           'source',\n",
    "                           'Capacidad MW',\n",
    "                           'GPPD IDNR',\n",
    "                           'Latitud',\n",
    "                           'Longitud',\n",
    "                           'geolocation_source']"
   ]
  },
  {
   "cell_type": "code",
   "execution_count": 10,
   "metadata": {},
   "outputs": [],
   "source": [
    "equivalencias_paise = {'Bangladesh': 'Bangladés',\n",
    "                        'Bahrein': 'Baréin',\n",
    "                        'Belarús': 'Bielorrusia',\n",
    "                        'Bhután': 'Bután',\n",
    "                        'Botswana': 'Botsuana',\n",
    "                        \"Côte d'Ivoire\": 'Costa de Marfil',\n",
    "                        'Congo, República Democrática del': 'República Democrática del Congo',\n",
    "                        'Congo, República del': 'República del Congo',\n",
    "                        'Djibouti': 'Yibuti',\n",
    "                        'Egipto, República Árabe de': 'Egipto',\n",
    "                        'Fiji': 'Fiyi',\n",
    "                        'Micronesia (Estados Federados de)': 'Micronesia',\n",
    "                        'Guinea-Bissau': 'Guinea-Bisáu',\n",
    "                        'Irán, República Islámica del': 'Irán',\n",
    "                        'Iraq': 'Irak',\n",
    "                        'Kazajstán': 'Kazajistán',\n",
    "                        'Kenya': 'Kenia',\n",
    "                        'Corea, República de': 'Corea del Sur',\n",
    "                        'Corea, República Popular Democrática de': 'Corea del Norte', \n",
    "                        'República Democrática Popular Lao': 'Laos',\n",
    "                        'Lesotho': 'Lesoto',\n",
    "                        'Viet Nam': 'Vietnam',\n",
    "                        'Yemen, Rep. del': 'Yemen',\n",
    "                        'Zimbabwe': 'Zimbabue',\n",
    "                        'Myanmar': 'Birmania',\n",
    "                        'Nueva Zelandia': 'Nueva Zelanda',\n",
    "                        'Palau': 'Palaos',\n",
    "                        'Papua Nueva Guinea': 'Papúa Nueva Guinea',\n",
    "                        'Suriname': 'Surinam',\n",
    "                        'Eswatini': 'Suazilandia',\n",
    "                        'República Árabe Siria': 'Siria',\n",
    "                        'Timor-Leste': 'Timor Oriental'}"
   ]
  },
  {
   "cell_type": "code",
   "execution_count": 11,
   "metadata": {},
   "outputs": [],
   "source": [
    "plantas_energia.replace({'Pais': equivalencias_paise}, inplace = True)"
   ]
  },
  {
   "cell_type": "code",
   "execution_count": 12,
   "metadata": {},
   "outputs": [],
   "source": [
    "paises = pd.read_csv('Paises.csv')\n",
    "\n",
    "paises.sort_values(by='Nombre_Pais', inplace=True)\n",
    "\n",
    "plantas_energia = plantas_energia[plantas_energia['Pais'].isin(paises['Nombre_Pais'])]"
   ]
  },
  {
   "cell_type": "code",
   "execution_count": 13,
   "metadata": {},
   "outputs": [
    {
     "name": "stdout",
     "output_type": "stream",
     "text": [
      "La lista contiene 198 países, y el DataFrame 70 países\n"
     ]
    }
   ],
   "source": [
    "print(f\"La lista contiene {len(paises)} países, y el DataFrame {len(plantas_energia['Pais'].unique())} países\")"
   ]
  },
  {
   "cell_type": "code",
   "execution_count": 14,
   "metadata": {},
   "outputs": [],
   "source": [
    "plantas_energia = plantas_energia.sort_values('Pais')"
   ]
  },
  {
   "cell_type": "code",
   "execution_count": null,
   "metadata": {},
   "outputs": [],
   "source": [
    "plantas_energia.insert(0,'Id_Pais',plantas_energia['Pais'].map(dict(zip(paises.Nombre_Pais,paises.Id_Pais))))"
   ]
  },
  {
   "cell_type": "code",
   "execution_count": null,
   "metadata": {},
   "outputs": [],
   "source": [
    "plantas_energia.drop(plantas_energia.columns[1:3], axis=1, inplace=True)"
   ]
  },
  {
   "cell_type": "code",
   "execution_count": null,
   "metadata": {},
   "outputs": [
    {
     "data": {
      "text/plain": [
       "8822"
      ]
     },
     "execution_count": 28,
     "metadata": {},
     "output_type": "execute_result"
    }
   ],
   "source": [
    "database_username='root' # Nomre del cliente oculto (para WorkBench) que has creado\n",
    "database_password='C13nc14d3d4t0s'\n",
    "database_ip='localhost'\n",
    "database_name='biodatascience'\n",
    "database_conection=db.create_engine(f'mysql+pymysql://{database_username}:{database_password}@{database_ip}/{database_name}')\n",
    "coneccion=database_conection.connect()\n",
    "metadata=db.MetaData()\n",
    "\n",
    "plantas_energia.to_sql('plantas_energia',coneccion, index=False) \n",
    "# data es  el nombre del Dataframe y ventas es el nombre que quiere para la tabla"
   ]
  }
 ],
 "metadata": {
  "kernelspec": {
   "display_name": "Python 3.10.4 64-bit",
   "language": "python",
   "name": "python3"
  },
  "language_info": {
   "codemirror_mode": {
    "name": "ipython",
    "version": 3
   },
   "file_extension": ".py",
   "mimetype": "text/x-python",
   "name": "python",
   "nbconvert_exporter": "python",
   "pygments_lexer": "ipython3",
   "version": "3.10.4"
  },
  "orig_nbformat": 4,
  "vscode": {
   "interpreter": {
    "hash": "45e2e186b83fae5600f279aff39b9b31db88e58868fc04a60be037eb2c4bfa89"
   }
  }
 },
 "nbformat": 4,
 "nbformat_minor": 2
}
