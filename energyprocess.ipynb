{
 "cells": [
  {
   "cell_type": "code",
   "execution_count": 1,
   "metadata": {},
   "outputs": [],
   "source": [
    "import pandas as pd\n",
    "import numpy as np\n",
    "import matplotlib.pyplot as plt\n",
    "import seaborn as sns\n",
    "import sqlalchemy as db"
   ]
  },
  {
   "cell_type": "code",
   "execution_count": 2,
   "metadata": {},
   "outputs": [],
   "source": [
    "df = pd.read_csv(r'energyco2.csv', encoding='utf-8')"
   ]
  },
  {
   "cell_type": "code",
   "execution_count": 3,
   "metadata": {},
   "outputs": [],
   "source": [
    "df = df.drop('Unnamed: 0', axis=1)"
   ]
  },
  {
   "cell_type": "code",
   "execution_count": 4,
   "metadata": {},
   "outputs": [],
   "source": [
    "equivalencias_paises = {'Bangladesh': 'Bangladés',\n",
    "                        'Bahrein': 'Baréin',\n",
    "                        'Belarús': 'Bielorrusia',\n",
    "                        'Bhután': 'Bután',\n",
    "                        'Botswana': 'Botsuana',\n",
    "                        \"Côte d'Ivoire\": 'Costa de Marfil',\n",
    "                        'Congo, República Democrática del': 'República Democrática del Congo',\n",
    "                        'Congo, República del': 'República del Congo',\n",
    "                        'Djibouti': 'Yibuti',\n",
    "                        'Egipto, República Árabe de': 'Egipto',\n",
    "                        'Fiji': 'Fiyi',\n",
    "                        'Micronesia (Estados Federados de)': 'Micronesia',\n",
    "                        'Guinea-Bissau': 'Guinea-Bisáu',\n",
    "                        'Irán, República Islámica del': 'Irán',\n",
    "                        'Iraq': 'Irak',\n",
    "                        'Kazajstán': 'Kazajistán',\n",
    "                        'Kenya': 'Kenia',\n",
    "                        'Corea, República de': 'Corea del Sur',\n",
    "                        'Corea, República Popular Democrática de': 'Corea del Norte', \n",
    "                        'República Democrática Popular Lao': 'Laos',\n",
    "                        'Lesotho': 'Lesoto',\n",
    "                        'Viet Nam': 'Vietnam',\n",
    "                        'Yemen, Rep. del': 'Yemen',\n",
    "                        'Zimbabwe': 'Zimbabue',\n",
    "                        'Myanmar': 'Birmania',\n",
    "                        'Nueva Zelandia': 'Nueva Zelanda',\n",
    "                        'Palau': 'Palaos',\n",
    "                        'Papua Nueva Guinea': 'Papúa Nueva Guinea',\n",
    "                        'Suriname': 'Surinam',\n",
    "                        'Eswatini': 'Suazilandia',\n",
    "                        'República Árabe Siria': 'Siria',\n",
    "                        'Timor-Leste': 'Timor Oriental'}\n",
    "\n",
    "\n",
    "df.replace({'Country': equivalencias_paises}, inplace = True)\n",
    "\n",
    "\n"
   ]
  },
  {
   "cell_type": "code",
   "execution_count": 5,
   "metadata": {},
   "outputs": [],
   "source": [
    "paises = pd.read_csv('Paises.csv')"
   ]
  },
  {
   "cell_type": "code",
   "execution_count": 6,
   "metadata": {},
   "outputs": [],
   "source": [
    "#Histograma que distribución del tipo de energia consumida/usada en el mundo\n",
    "#all_energy_types\n",
    "#coal (carbon) 9240\n",
    "#natural_gas 9240\n",
    "#petroleum_n_other_liquids 9240\n",
    "#nuclear 9240\n",
    "#renewables_n_other 9240\n",
    "\n"
   ]
  },
  {
   "cell_type": "code",
   "execution_count": 7,
   "metadata": {},
   "outputs": [],
   "source": [
    "#exportar a csv\n",
    "#df.to_csv('data_energyprocess20220817.csv')"
   ]
  },
  {
   "cell_type": "code",
   "execution_count": 8,
   "metadata": {},
   "outputs": [
    {
     "name": "stdout",
     "output_type": "stream",
     "text": [
      "La lista contiene 198 países, y el DataFrame 84 países\n"
     ]
    }
   ],
   "source": [
    "paises.sort_values(by='Nombre_Pais', inplace=True)\n",
    "df = df[df['Country'].isin(paises['Nombre_Pais'])]\n",
    "print(f\"La lista contiene {len(paises)} países, y el DataFrame {len(df['Country'].unique())} países\")\n",
    "df = df.sort_values('Country')\n",
    "df.insert(0,'Id_Pais',df['Country'].map(dict(zip(paises.Nombre_Pais,paises.Id_Pais))))"
   ]
  },
  {
   "cell_type": "code",
   "execution_count": 9,
   "metadata": {},
   "outputs": [],
   "source": [
    "df.drop(df.columns[1:2], axis=1, inplace=True)"
   ]
  },
  {
   "cell_type": "code",
   "execution_count": 10,
   "metadata": {},
   "outputs": [],
   "source": [
    "Tipo = df[['Energy_type']]"
   ]
  },
  {
   "cell_type": "code",
   "execution_count": 11,
   "metadata": {},
   "outputs": [],
   "source": [
    "Tipo = Tipo['Energy_type'].unique()"
   ]
  },
  {
   "cell_type": "code",
   "execution_count": 12,
   "metadata": {},
   "outputs": [],
   "source": [
    "Tipo = pd.DataFrame(Tipo)"
   ]
  },
  {
   "cell_type": "code",
   "execution_count": 13,
   "metadata": {},
   "outputs": [],
   "source": [
    "Tipo.reset_index(inplace=True)"
   ]
  },
  {
   "cell_type": "code",
   "execution_count": 14,
   "metadata": {},
   "outputs": [
    {
     "data": {
      "text/html": [
       "<div>\n",
       "<style scoped>\n",
       "    .dataframe tbody tr th:only-of-type {\n",
       "        vertical-align: middle;\n",
       "    }\n",
       "\n",
       "    .dataframe tbody tr th {\n",
       "        vertical-align: top;\n",
       "    }\n",
       "\n",
       "    .dataframe thead th {\n",
       "        text-align: right;\n",
       "    }\n",
       "</style>\n",
       "<table border=\"1\" class=\"dataframe\">\n",
       "  <thead>\n",
       "    <tr style=\"text-align: right;\">\n",
       "      <th></th>\n",
       "      <th>index</th>\n",
       "      <th>0</th>\n",
       "    </tr>\n",
       "  </thead>\n",
       "  <tbody>\n",
       "    <tr>\n",
       "      <th>0</th>\n",
       "      <td>0</td>\n",
       "      <td>all_energy_types</td>\n",
       "    </tr>\n",
       "    <tr>\n",
       "      <th>1</th>\n",
       "      <td>1</td>\n",
       "      <td>coal</td>\n",
       "    </tr>\n",
       "    <tr>\n",
       "      <th>2</th>\n",
       "      <td>2</td>\n",
       "      <td>natural_gas</td>\n",
       "    </tr>\n",
       "    <tr>\n",
       "      <th>3</th>\n",
       "      <td>3</td>\n",
       "      <td>petroleum_n_other_liquids</td>\n",
       "    </tr>\n",
       "    <tr>\n",
       "      <th>4</th>\n",
       "      <td>4</td>\n",
       "      <td>nuclear</td>\n",
       "    </tr>\n",
       "    <tr>\n",
       "      <th>5</th>\n",
       "      <td>5</td>\n",
       "      <td>renewables_n_other</td>\n",
       "    </tr>\n",
       "  </tbody>\n",
       "</table>\n",
       "</div>"
      ],
      "text/plain": [
       "   index                          0\n",
       "0      0           all_energy_types\n",
       "1      1                       coal\n",
       "2      2                natural_gas\n",
       "3      3  petroleum_n_other_liquids\n",
       "4      4                    nuclear\n",
       "5      5         renewables_n_other"
      ]
     },
     "execution_count": 14,
     "metadata": {},
     "output_type": "execute_result"
    }
   ],
   "source": [
    "Tipo"
   ]
  },
  {
   "cell_type": "code",
   "execution_count": 15,
   "metadata": {},
   "outputs": [],
   "source": [
    "Tipo.columns = ['Id_Tipo','Tipo de energia']"
   ]
  },
  {
   "cell_type": "code",
   "execution_count": 18,
   "metadata": {},
   "outputs": [
    {
     "name": "stdout",
     "output_type": "stream",
     "text": [
      "La lista contiene 6 países, y el DataFrame 6 tipos de energia\n"
     ]
    }
   ],
   "source": [
    "df = df[df['Energy_type'].isin(Tipo['Tipo de energia'])]\n",
    "print(f\"La lista contiene {len(Tipo)} países, y el DataFrame {len(df['Energy_type'].unique())} tipos de energia\")\n",
    "df.insert(1,'Id_Tipo',df['Energy_type'].map(dict(zip(Tipo['Tipo de energia'],Tipo.Id_Tipo))))"
   ]
  },
  {
   "cell_type": "code",
   "execution_count": 19,
   "metadata": {},
   "outputs": [],
   "source": [
    "Tipo.drop(Tipo.columns[2:3], axis=1, inplace=True)"
   ]
  },
  {
   "cell_type": "code",
   "execution_count": 20,
   "metadata": {},
   "outputs": [
    {
     "data": {
      "text/plain": [
       "20160"
      ]
     },
     "execution_count": 20,
     "metadata": {},
     "output_type": "execute_result"
    }
   ],
   "source": [
    "database_username='root' # Nomre del cliente oculto (para WorkBench) que has creado\n",
    "database_password='C13nc14d3d4t0s'\n",
    "database_ip='localhost'\n",
    "database_name='biodatascience'\n",
    "database_conection=db.create_engine(f'mysql+pymysql://{database_username}:{database_password}@{database_ip}/{database_name}')\n",
    "coneccion=database_conection.connect()\n",
    "metadata=db.MetaData()\n",
    "\n",
    "df.to_sql('energyprocess',coneccion, index=False) "
   ]
  }
 ],
 "metadata": {
  "kernelspec": {
   "display_name": "Python 3.10.4 64-bit",
   "language": "python",
   "name": "python3"
  },
  "language_info": {
   "codemirror_mode": {
    "name": "ipython",
    "version": 3
   },
   "file_extension": ".py",
   "mimetype": "text/x-python",
   "name": "python",
   "nbconvert_exporter": "python",
   "pygments_lexer": "ipython3",
   "version": "3.10.4"
  },
  "orig_nbformat": 4,
  "vscode": {
   "interpreter": {
    "hash": "45e2e186b83fae5600f279aff39b9b31db88e58868fc04a60be037eb2c4bfa89"
   }
  }
 },
 "nbformat": 4,
 "nbformat_minor": 2
}
